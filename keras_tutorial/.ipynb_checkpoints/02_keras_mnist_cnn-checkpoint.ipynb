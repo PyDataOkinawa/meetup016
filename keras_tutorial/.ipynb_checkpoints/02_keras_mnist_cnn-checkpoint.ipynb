{
 "cells": [
  {
   "cell_type": "markdown",
   "metadata": {},
   "source": [
    "# Kerasで畳み込みネットワーク(Convolutional Neural Network, CNN)を組んで手書き文字を判別してみよう\n",
    "\n",
    "### 参考資料\n",
    "\n",
    "- https://github.com/fchollet/keras/blob/master/examples/mnist_cnn.py"
   ]
  },
  {
   "cell_type": "markdown",
   "metadata": {},
   "source": [
    "## モデルの構築"
   ]
  },
  {
   "cell_type": "code",
   "execution_count": 1,
   "metadata": {
    "collapsed": true
   },
   "outputs": [],
   "source": [
    "# イメージのピクセルサイズ\n",
    "img_rows, img_cols = 28, 28\n",
    "# 畳み込みフィルタの数\n",
    "nb_filters = 32\n",
    "# max poolingのサイズ\n",
    "nb_pool = 2\n",
    "# 畳み込みカーネルのサイズ\n",
    "nb_conv = 3\n",
    "\n",
    "# クラス数\n",
    "nb_classes = 10"
   ]
  },
  {
   "cell_type": "markdown",
   "metadata": {},
   "source": [
    "### 方法１：Keras Sequential model"
   ]
  },
  {
   "cell_type": "code",
   "execution_count": 2,
   "metadata": {
    "collapsed": false
   },
   "outputs": [
    {
     "name": "stderr",
     "output_type": "stream",
     "text": [
      "Using TensorFlow backend.\n"
     ]
    }
   ],
   "source": [
    "from keras.models import Sequential\n",
    "from keras.layers import Dense, Dropout, Flatten, Convolution2D, MaxPooling2D"
   ]
  },
  {
   "cell_type": "code",
   "execution_count": 3,
   "metadata": {
    "collapsed": false
   },
   "outputs": [],
   "source": [
    "model = Sequential()\n",
    "\n",
    "model.add(Convolution2D(nb_filters, nb_conv, nb_conv, \n",
    "                        border_mode='valid', activation='relu',\n",
    "                        input_shape=(1, img_rows, img_cols)))\n",
    "\n",
    "model.add(Convolution2D(nb_filters, nb_conv, nb_conv, \n",
    "                        border_mode='valid', activation='relu'))\n",
    "\n",
    "model.add(MaxPooling2D(pool_size=(nb_pool, nb_pool)))\n",
    "model.add(Dropout(0.25))\n",
    "\n",
    "model.add(Flatten())\n",
    "\n",
    "model.add(Dense(128, activation='relu'))\n",
    "model.add(Dropout(0.5))\n",
    "\n",
    "model.add(Dense(nb_classes, activation='softmax'))"
   ]
  },
  {
   "cell_type": "markdown",
   "metadata": {
    "collapsed": true
   },
   "source": [
    "### 方法２：Keras functional API（推奨）"
   ]
  },
  {
   "cell_type": "code",
   "execution_count": 4,
   "metadata": {
    "collapsed": true
   },
   "outputs": [],
   "source": [
    "from keras.models import Model\n",
    "from keras.layers import Input, Dense, Dropout, Flatten, Convolution2D, MaxPooling2D"
   ]
  },
  {
   "cell_type": "code",
   "execution_count": 5,
   "metadata": {
    "collapsed": false
   },
   "outputs": [],
   "source": [
    "inputs = Input(shape=(1, img_rows, img_cols))\n",
    "\n",
    "x = Convolution2D(nb_filters, nb_conv, nb_conv, border_mode='valid', activation='relu')(inputs)\n",
    "\n",
    "x = Convolution2D(nb_filters, nb_conv, nb_conv, border_mode='valid', activation='relu')(x)\n",
    "\n",
    "x = MaxPooling2D(pool_size=(nb_pool, nb_pool))(x)\n",
    "x = Dropout(0.25)(x)\n",
    "\n",
    "x  = Flatten()(x)\n",
    "\n",
    "x = Dense(128, activation='relu')(x)\n",
    "x = Dropout(0.5)(x)\n",
    "\n",
    "outputs = Dense(nb_classes, activation='softmax')(x)"
   ]
  },
  {
   "cell_type": "code",
   "execution_count": 6,
   "metadata": {
    "collapsed": true
   },
   "outputs": [],
   "source": [
    "model = Model(inputs, outputs)"
   ]
  },
  {
   "cell_type": "markdown",
   "metadata": {},
   "source": [
    "## モデルの可視化"
   ]
  },
  {
   "cell_type": "code",
   "execution_count": 7,
   "metadata": {
    "collapsed": false
   },
   "outputs": [
    {
     "name": "stdout",
     "output_type": "stream",
     "text": [
      "____________________________________________________________________________________________________\n",
      "Layer (type)                     Output Shape          Param #     Connected to                     \n",
      "====================================================================================================\n",
      "input_1 (InputLayer)             (None, 1, 28, 28)     0                                            \n",
      "____________________________________________________________________________________________________\n",
      "convolution2d_3 (Convolution2D)  (None, 32, 26, 26)    320         input_1[0][0]                    \n",
      "____________________________________________________________________________________________________\n",
      "convolution2d_4 (Convolution2D)  (None, 32, 24, 24)    9248        convolution2d_3[0][0]            \n",
      "____________________________________________________________________________________________________\n",
      "maxpooling2d_2 (MaxPooling2D)    (None, 32, 12, 12)    0           convolution2d_4[0][0]            \n",
      "____________________________________________________________________________________________________\n",
      "dropout_3 (Dropout)              (None, 32, 12, 12)    0           maxpooling2d_2[0][0]             \n",
      "____________________________________________________________________________________________________\n",
      "flatten_2 (Flatten)              (None, 4608)          0           dropout_3[0][0]                  \n",
      "____________________________________________________________________________________________________\n",
      "dense_3 (Dense)                  (None, 128)           589952      flatten_2[0][0]                  \n",
      "____________________________________________________________________________________________________\n",
      "dropout_4 (Dropout)              (None, 128)           0           dense_3[0][0]                    \n",
      "____________________________________________________________________________________________________\n",
      "dense_4 (Dense)                  (None, 10)            1290        dropout_4[0][0]                  \n",
      "====================================================================================================\n",
      "Total params: 600810\n",
      "____________________________________________________________________________________________________\n"
     ]
    }
   ],
   "source": [
    "model.summary()"
   ]
  },
  {
   "cell_type": "code",
   "execution_count": 8,
   "metadata": {
    "collapsed": false
   },
   "outputs": [
    {
     "data": {
      "image/svg+xml": [
       "<svg height=\"701pt\" viewBox=\"0.00 0.00 393.14 701.00\" width=\"393pt\" xmlns=\"http://www.w3.org/2000/svg\" xmlns:xlink=\"http://www.w3.org/1999/xlink\">\n",
       "<g class=\"graph\" id=\"graph0\" transform=\"scale(1 1) rotate(0) translate(4 697)\">\n",
       "<title>G</title>\n",
       "<polygon fill=\"white\" points=\"-4,4 -4,-697 389.142,-697 389.142,4 -4,4\" stroke=\"none\"/>\n",
       "<!-- 4821123152 -->\n",
       "<g class=\"node\" id=\"node1\"><title>4821123152</title>\n",
       "<polygon fill=\"none\" points=\"42.0137,-648.5 42.0137,-692.5 343.128,-692.5 343.128,-648.5 42.0137,-648.5\" stroke=\"black\"/>\n",
       "<text font-family=\"Times,serif\" font-size=\"14.00\" text-anchor=\"middle\" x=\"108.912\" y=\"-666.3\">input_1 (InputLayer)</text>\n",
       "<polyline fill=\"none\" points=\"175.811,-648.5 175.811,-692.5 \" stroke=\"black\"/>\n",
       "<text font-family=\"Times,serif\" font-size=\"14.00\" text-anchor=\"middle\" x=\"203.645\" y=\"-677.3\">input:</text>\n",
       "<polyline fill=\"none\" points=\"175.811,-670.5 231.479,-670.5 \" stroke=\"black\"/>\n",
       "<text font-family=\"Times,serif\" font-size=\"14.00\" text-anchor=\"middle\" x=\"203.645\" y=\"-655.3\">output:</text>\n",
       "<polyline fill=\"none\" points=\"231.479,-648.5 231.479,-692.5 \" stroke=\"black\"/>\n",
       "<text font-family=\"Times,serif\" font-size=\"14.00\" text-anchor=\"middle\" x=\"287.304\" y=\"-677.3\">(None, 1, 28, 28)</text>\n",
       "<polyline fill=\"none\" points=\"231.479,-670.5 343.128,-670.5 \" stroke=\"black\"/>\n",
       "<text font-family=\"Times,serif\" font-size=\"14.00\" text-anchor=\"middle\" x=\"287.304\" y=\"-655.3\">(None, 1, 28, 28)</text>\n",
       "</g>\n",
       "<!-- 4821126032 -->\n",
       "<g class=\"node\" id=\"node2\"><title>4821126032</title>\n",
       "<polygon fill=\"none\" points=\"0,-567.5 0,-611.5 385.142,-611.5 385.142,-567.5 0,-567.5\" stroke=\"black\"/>\n",
       "<text font-family=\"Times,serif\" font-size=\"14.00\" text-anchor=\"middle\" x=\"105.412\" y=\"-585.3\">convolution2d_3 (Convolution2D)</text>\n",
       "<polyline fill=\"none\" points=\"210.824,-567.5 210.824,-611.5 \" stroke=\"black\"/>\n",
       "<text font-family=\"Times,serif\" font-size=\"14.00\" text-anchor=\"middle\" x=\"238.659\" y=\"-596.3\">input:</text>\n",
       "<polyline fill=\"none\" points=\"210.824,-589.5 266.493,-589.5 \" stroke=\"black\"/>\n",
       "<text font-family=\"Times,serif\" font-size=\"14.00\" text-anchor=\"middle\" x=\"238.659\" y=\"-574.3\">output:</text>\n",
       "<polyline fill=\"none\" points=\"266.493,-567.5 266.493,-611.5 \" stroke=\"black\"/>\n",
       "<text font-family=\"Times,serif\" font-size=\"14.00\" text-anchor=\"middle\" x=\"325.817\" y=\"-596.3\">(None, 1, 28, 28)</text>\n",
       "<polyline fill=\"none\" points=\"266.493,-589.5 385.142,-589.5 \" stroke=\"black\"/>\n",
       "<text font-family=\"Times,serif\" font-size=\"14.00\" text-anchor=\"middle\" x=\"325.817\" y=\"-574.3\">(None, 32, 26, 26)</text>\n",
       "</g>\n",
       "<!-- 4821123152&#45;&gt;4821126032 -->\n",
       "<g class=\"edge\" id=\"edge1\"><title>4821123152-&gt;4821126032</title>\n",
       "<path d=\"M192.571,-648.329C192.571,-640.183 192.571,-630.699 192.571,-621.797\" fill=\"none\" stroke=\"black\"/>\n",
       "<polygon fill=\"black\" points=\"196.071,-621.729 192.571,-611.729 189.071,-621.729 196.071,-621.729\" stroke=\"black\"/>\n",
       "</g>\n",
       "<!-- 4810635984 -->\n",
       "<g class=\"node\" id=\"node3\"><title>4810635984</title>\n",
       "<polygon fill=\"none\" points=\"0,-486.5 0,-530.5 385.142,-530.5 385.142,-486.5 0,-486.5\" stroke=\"black\"/>\n",
       "<text font-family=\"Times,serif\" font-size=\"14.00\" text-anchor=\"middle\" x=\"105.412\" y=\"-504.3\">convolution2d_4 (Convolution2D)</text>\n",
       "<polyline fill=\"none\" points=\"210.824,-486.5 210.824,-530.5 \" stroke=\"black\"/>\n",
       "<text font-family=\"Times,serif\" font-size=\"14.00\" text-anchor=\"middle\" x=\"238.659\" y=\"-515.3\">input:</text>\n",
       "<polyline fill=\"none\" points=\"210.824,-508.5 266.493,-508.5 \" stroke=\"black\"/>\n",
       "<text font-family=\"Times,serif\" font-size=\"14.00\" text-anchor=\"middle\" x=\"238.659\" y=\"-493.3\">output:</text>\n",
       "<polyline fill=\"none\" points=\"266.493,-486.5 266.493,-530.5 \" stroke=\"black\"/>\n",
       "<text font-family=\"Times,serif\" font-size=\"14.00\" text-anchor=\"middle\" x=\"325.817\" y=\"-515.3\">(None, 32, 26, 26)</text>\n",
       "<polyline fill=\"none\" points=\"266.493,-508.5 385.142,-508.5 \" stroke=\"black\"/>\n",
       "<text font-family=\"Times,serif\" font-size=\"14.00\" text-anchor=\"middle\" x=\"325.817\" y=\"-493.3\">(None, 32, 24, 24)</text>\n",
       "</g>\n",
       "<!-- 4821126032&#45;&gt;4810635984 -->\n",
       "<g class=\"edge\" id=\"edge2\"><title>4821126032-&gt;4810635984</title>\n",
       "<path d=\"M192.571,-567.329C192.571,-559.183 192.571,-549.699 192.571,-540.797\" fill=\"none\" stroke=\"black\"/>\n",
       "<polygon fill=\"black\" points=\"196.071,-540.729 192.571,-530.729 189.071,-540.729 196.071,-540.729\" stroke=\"black\"/>\n",
       "</g>\n",
       "<!-- 4821232080 -->\n",
       "<g class=\"node\" id=\"node4\"><title>4821232080</title>\n",
       "<polygon fill=\"none\" points=\"0.389648,-405.5 0.389648,-449.5 384.752,-449.5 384.752,-405.5 0.389648,-405.5\" stroke=\"black\"/>\n",
       "<text font-family=\"Times,serif\" font-size=\"14.00\" text-anchor=\"middle\" x=\"105.412\" y=\"-423.3\">maxpooling2d_2 (MaxPooling2D)</text>\n",
       "<polyline fill=\"none\" points=\"210.435,-405.5 210.435,-449.5 \" stroke=\"black\"/>\n",
       "<text font-family=\"Times,serif\" font-size=\"14.00\" text-anchor=\"middle\" x=\"238.269\" y=\"-434.3\">input:</text>\n",
       "<polyline fill=\"none\" points=\"210.435,-427.5 266.104,-427.5 \" stroke=\"black\"/>\n",
       "<text font-family=\"Times,serif\" font-size=\"14.00\" text-anchor=\"middle\" x=\"238.269\" y=\"-412.3\">output:</text>\n",
       "<polyline fill=\"none\" points=\"266.104,-405.5 266.104,-449.5 \" stroke=\"black\"/>\n",
       "<text font-family=\"Times,serif\" font-size=\"14.00\" text-anchor=\"middle\" x=\"325.428\" y=\"-434.3\">(None, 32, 24, 24)</text>\n",
       "<polyline fill=\"none\" points=\"266.104,-427.5 384.752,-427.5 \" stroke=\"black\"/>\n",
       "<text font-family=\"Times,serif\" font-size=\"14.00\" text-anchor=\"middle\" x=\"325.428\" y=\"-412.3\">(None, 32, 12, 12)</text>\n",
       "</g>\n",
       "<!-- 4810635984&#45;&gt;4821232080 -->\n",
       "<g class=\"edge\" id=\"edge3\"><title>4810635984-&gt;4821232080</title>\n",
       "<path d=\"M192.571,-486.329C192.571,-478.183 192.571,-468.699 192.571,-459.797\" fill=\"none\" stroke=\"black\"/>\n",
       "<polygon fill=\"black\" points=\"196.071,-459.729 192.571,-449.729 189.071,-459.729 196.071,-459.729\" stroke=\"black\"/>\n",
       "</g>\n",
       "<!-- 4844182928 -->\n",
       "<g class=\"node\" id=\"node5\"><title>4844182928</title>\n",
       "<polygon fill=\"none\" points=\"38.8931,-324.5 38.8931,-368.5 346.249,-368.5 346.249,-324.5 38.8931,-324.5\" stroke=\"black\"/>\n",
       "<text font-family=\"Times,serif\" font-size=\"14.00\" text-anchor=\"middle\" x=\"105.412\" y=\"-342.3\">dropout_3 (Dropout)</text>\n",
       "<polyline fill=\"none\" points=\"171.931,-324.5 171.931,-368.5 \" stroke=\"black\"/>\n",
       "<text font-family=\"Times,serif\" font-size=\"14.00\" text-anchor=\"middle\" x=\"199.766\" y=\"-353.3\">input:</text>\n",
       "<polyline fill=\"none\" points=\"171.931,-346.5 227.6,-346.5 \" stroke=\"black\"/>\n",
       "<text font-family=\"Times,serif\" font-size=\"14.00\" text-anchor=\"middle\" x=\"199.766\" y=\"-331.3\">output:</text>\n",
       "<polyline fill=\"none\" points=\"227.6,-324.5 227.6,-368.5 \" stroke=\"black\"/>\n",
       "<text font-family=\"Times,serif\" font-size=\"14.00\" text-anchor=\"middle\" x=\"286.924\" y=\"-353.3\">(None, 32, 12, 12)</text>\n",
       "<polyline fill=\"none\" points=\"227.6,-346.5 346.249,-346.5 \" stroke=\"black\"/>\n",
       "<text font-family=\"Times,serif\" font-size=\"14.00\" text-anchor=\"middle\" x=\"286.924\" y=\"-331.3\">(None, 32, 12, 12)</text>\n",
       "</g>\n",
       "<!-- 4821232080&#45;&gt;4844182928 -->\n",
       "<g class=\"edge\" id=\"edge4\"><title>4821232080-&gt;4844182928</title>\n",
       "<path d=\"M192.571,-405.329C192.571,-397.183 192.571,-387.699 192.571,-378.797\" fill=\"none\" stroke=\"black\"/>\n",
       "<polygon fill=\"black\" points=\"196.071,-378.729 192.571,-368.729 189.071,-378.729 196.071,-378.729\" stroke=\"black\"/>\n",
       "</g>\n",
       "<!-- 4845501200 -->\n",
       "<g class=\"node\" id=\"node6\"><title>4845501200</title>\n",
       "<polygon fill=\"none\" points=\"47.062,-243.5 47.062,-287.5 338.08,-287.5 338.08,-243.5 47.062,-243.5\" stroke=\"black\"/>\n",
       "<text font-family=\"Times,serif\" font-size=\"14.00\" text-anchor=\"middle\" x=\"105.412\" y=\"-261.3\">flatten_2 (Flatten)</text>\n",
       "<polyline fill=\"none\" points=\"163.762,-243.5 163.762,-287.5 \" stroke=\"black\"/>\n",
       "<text font-family=\"Times,serif\" font-size=\"14.00\" text-anchor=\"middle\" x=\"191.597\" y=\"-272.3\">input:</text>\n",
       "<polyline fill=\"none\" points=\"163.762,-265.5 219.431,-265.5 \" stroke=\"black\"/>\n",
       "<text font-family=\"Times,serif\" font-size=\"14.00\" text-anchor=\"middle\" x=\"191.597\" y=\"-250.3\">output:</text>\n",
       "<polyline fill=\"none\" points=\"219.431,-243.5 219.431,-287.5 \" stroke=\"black\"/>\n",
       "<text font-family=\"Times,serif\" font-size=\"14.00\" text-anchor=\"middle\" x=\"278.755\" y=\"-272.3\">(None, 32, 12, 12)</text>\n",
       "<polyline fill=\"none\" points=\"219.431,-265.5 338.08,-265.5 \" stroke=\"black\"/>\n",
       "<text font-family=\"Times,serif\" font-size=\"14.00\" text-anchor=\"middle\" x=\"278.755\" y=\"-250.3\">(None, 4608)</text>\n",
       "</g>\n",
       "<!-- 4844182928&#45;&gt;4845501200 -->\n",
       "<g class=\"edge\" id=\"edge5\"><title>4844182928-&gt;4845501200</title>\n",
       "<path d=\"M192.571,-324.329C192.571,-316.183 192.571,-306.699 192.571,-297.797\" fill=\"none\" stroke=\"black\"/>\n",
       "<polygon fill=\"black\" points=\"196.071,-297.729 192.571,-287.729 189.071,-297.729 196.071,-297.729\" stroke=\"black\"/>\n",
       "</g>\n",
       "<!-- 4845897232 -->\n",
       "<g class=\"node\" id=\"node7\"><title>4845897232</title>\n",
       "<polygon fill=\"none\" points=\"64.5688,-162.5 64.5688,-206.5 320.573,-206.5 320.573,-162.5 64.5688,-162.5\" stroke=\"black\"/>\n",
       "<text font-family=\"Times,serif\" font-size=\"14.00\" text-anchor=\"middle\" x=\"119.412\" y=\"-180.3\">dense_3 (Dense)</text>\n",
       "<polyline fill=\"none\" points=\"174.255,-162.5 174.255,-206.5 \" stroke=\"black\"/>\n",
       "<text font-family=\"Times,serif\" font-size=\"14.00\" text-anchor=\"middle\" x=\"202.09\" y=\"-191.3\">input:</text>\n",
       "<polyline fill=\"none\" points=\"174.255,-184.5 229.924,-184.5 \" stroke=\"black\"/>\n",
       "<text font-family=\"Times,serif\" font-size=\"14.00\" text-anchor=\"middle\" x=\"202.09\" y=\"-169.3\">output:</text>\n",
       "<polyline fill=\"none\" points=\"229.924,-162.5 229.924,-206.5 \" stroke=\"black\"/>\n",
       "<text font-family=\"Times,serif\" font-size=\"14.00\" text-anchor=\"middle\" x=\"275.249\" y=\"-191.3\">(None, 4608)</text>\n",
       "<polyline fill=\"none\" points=\"229.924,-184.5 320.573,-184.5 \" stroke=\"black\"/>\n",
       "<text font-family=\"Times,serif\" font-size=\"14.00\" text-anchor=\"middle\" x=\"275.249\" y=\"-169.3\">(None, 128)</text>\n",
       "</g>\n",
       "<!-- 4845501200&#45;&gt;4845897232 -->\n",
       "<g class=\"edge\" id=\"edge6\"><title>4845501200-&gt;4845897232</title>\n",
       "<path d=\"M192.571,-243.329C192.571,-235.183 192.571,-225.699 192.571,-216.797\" fill=\"none\" stroke=\"black\"/>\n",
       "<polygon fill=\"black\" points=\"196.071,-216.729 192.571,-206.729 189.071,-216.729 196.071,-216.729\" stroke=\"black\"/>\n",
       "</g>\n",
       "<!-- 4845898512 -->\n",
       "<g class=\"node\" id=\"node8\"><title>4845898512</title>\n",
       "<polygon fill=\"none\" points=\"56.3931,-81.5 56.3931,-125.5 328.749,-125.5 328.749,-81.5 56.3931,-81.5\" stroke=\"black\"/>\n",
       "<text font-family=\"Times,serif\" font-size=\"14.00\" text-anchor=\"middle\" x=\"122.912\" y=\"-99.3\">dropout_4 (Dropout)</text>\n",
       "<polyline fill=\"none\" points=\"189.431,-81.5 189.431,-125.5 \" stroke=\"black\"/>\n",
       "<text font-family=\"Times,serif\" font-size=\"14.00\" text-anchor=\"middle\" x=\"217.266\" y=\"-110.3\">input:</text>\n",
       "<polyline fill=\"none\" points=\"189.431,-103.5 245.1,-103.5 \" stroke=\"black\"/>\n",
       "<text font-family=\"Times,serif\" font-size=\"14.00\" text-anchor=\"middle\" x=\"217.266\" y=\"-88.3\">output:</text>\n",
       "<polyline fill=\"none\" points=\"245.1,-81.5 245.1,-125.5 \" stroke=\"black\"/>\n",
       "<text font-family=\"Times,serif\" font-size=\"14.00\" text-anchor=\"middle\" x=\"286.924\" y=\"-110.3\">(None, 128)</text>\n",
       "<polyline fill=\"none\" points=\"245.1,-103.5 328.749,-103.5 \" stroke=\"black\"/>\n",
       "<text font-family=\"Times,serif\" font-size=\"14.00\" text-anchor=\"middle\" x=\"286.924\" y=\"-88.3\">(None, 128)</text>\n",
       "</g>\n",
       "<!-- 4845897232&#45;&gt;4845898512 -->\n",
       "<g class=\"edge\" id=\"edge7\"><title>4845897232-&gt;4845898512</title>\n",
       "<path d=\"M192.571,-162.329C192.571,-154.183 192.571,-144.699 192.571,-135.797\" fill=\"none\" stroke=\"black\"/>\n",
       "<polygon fill=\"black\" points=\"196.071,-135.729 192.571,-125.729 189.071,-135.729 196.071,-135.729\" stroke=\"black\"/>\n",
       "</g>\n",
       "<!-- 4845970000 -->\n",
       "<g class=\"node\" id=\"node9\"><title>4845970000</title>\n",
       "<polygon fill=\"none\" points=\"68.0688,-0.5 68.0688,-44.5 317.073,-44.5 317.073,-0.5 68.0688,-0.5\" stroke=\"black\"/>\n",
       "<text font-family=\"Times,serif\" font-size=\"14.00\" text-anchor=\"middle\" x=\"122.912\" y=\"-18.3\">dense_4 (Dense)</text>\n",
       "<polyline fill=\"none\" points=\"177.755,-0.5 177.755,-44.5 \" stroke=\"black\"/>\n",
       "<text font-family=\"Times,serif\" font-size=\"14.00\" text-anchor=\"middle\" x=\"205.59\" y=\"-29.3\">input:</text>\n",
       "<polyline fill=\"none\" points=\"177.755,-22.5 233.424,-22.5 \" stroke=\"black\"/>\n",
       "<text font-family=\"Times,serif\" font-size=\"14.00\" text-anchor=\"middle\" x=\"205.59\" y=\"-7.3\">output:</text>\n",
       "<polyline fill=\"none\" points=\"233.424,-0.5 233.424,-44.5 \" stroke=\"black\"/>\n",
       "<text font-family=\"Times,serif\" font-size=\"14.00\" text-anchor=\"middle\" x=\"275.249\" y=\"-29.3\">(None, 128)</text>\n",
       "<polyline fill=\"none\" points=\"233.424,-22.5 317.073,-22.5 \" stroke=\"black\"/>\n",
       "<text font-family=\"Times,serif\" font-size=\"14.00\" text-anchor=\"middle\" x=\"275.249\" y=\"-7.3\">(None, 10)</text>\n",
       "</g>\n",
       "<!-- 4845898512&#45;&gt;4845970000 -->\n",
       "<g class=\"edge\" id=\"edge8\"><title>4845898512-&gt;4845970000</title>\n",
       "<path d=\"M192.571,-81.3294C192.571,-73.1826 192.571,-63.6991 192.571,-54.7971\" fill=\"none\" stroke=\"black\"/>\n",
       "<polygon fill=\"black\" points=\"196.071,-54.729 192.571,-44.729 189.071,-54.729 196.071,-54.729\" stroke=\"black\"/>\n",
       "</g>\n",
       "</g>\n",
       "</svg>"
      ],
      "text/plain": [
       "<IPython.core.display.SVG object>"
      ]
     },
     "execution_count": 8,
     "metadata": {},
     "output_type": "execute_result"
    }
   ],
   "source": [
    "# モデルの可視化用モジュールの読み込み\n",
    "from IPython.display import SVG\n",
    "from keras.utils.visualize_util import model_to_dot\n",
    "\n",
    "# モデルの可視化\n",
    "SVG(model_to_dot(model, show_shapes=True).create(prog='dot', format='svg'))"
   ]
  },
  {
   "cell_type": "markdown",
   "metadata": {},
   "source": [
    "## モデルのコンパイル\n",
    "\n",
    "- 最適化手法の選択\n",
    "    - 通常はAdadeltaかAdam、もしくはSGD with Nesterov momentumでOK\n",
    "    - RNNならRMSpropが安定している\n",
    "    - 超複雑なネットワークを、大量のデータで学習させるときには極力小さな学習率でシンプルなSGD without momentumを用いるのが良かったりする。（validation errorの減少が止まったら学習率を半分にする）\n",
    "- 最適化手法の違い\n",
    "    - [勾配降下法の最適化アルゴリズムを概観する](http://postd.cc/optimizing-gradient-descent/)\n",
    "    - [An overview of gradient descent optimization algorithms](http://sebastianruder.com/optimizing-gradient-descent/)"
   ]
  },
  {
   "cell_type": "code",
   "execution_count": 9,
   "metadata": {
    "collapsed": true
   },
   "outputs": [],
   "source": [
    "# ==== デフォルト設定で使う場合 ====\n",
    "# optimizerに全て小文字のストリングを渡すだけ（超カンタン！）\n",
    "# 例えば以下のような設定が使える\n",
    "# optimizer='sgd'\n",
    "# optimizer='adadelta'\n",
    "# optimizer='adam'\n",
    "# optimizer='rmsprop\n",
    "\n",
    "# ==== 好みに合わせて設定を変えたい場合 ====\n",
    "# まず、最適化手法のクラスを読み込む\n",
    "from keras.optimizers import SGD, Adadelta, Adam, RMSprop\n",
    "# それらをインスタンス化してからoptimizer引数に渡す\n",
    "# 例）　SGD with Nesterov momentum を用いる場合\n",
    "sgd_nesterov=SGD(lr=0.01, momentum=0.9, nesterov=True)\n",
    "\n",
    "# モデルのコンパイル\n",
    "model.compile(loss='categorical_crossentropy', # 損失関数（この量のパラメータ勾配で学習する）\n",
    "              optimizer='adadelta', # 最適化手法（デフォルト設定）\n",
    "              #optimizer=sgd_nesterov, # 最適化手法（お好み設定）\n",
    "              metrics=['accuracy'] # 評価指標\n",
    "             )"
   ]
  },
  {
   "cell_type": "markdown",
   "metadata": {},
   "source": [
    "## MNISTデータセットの読み込み"
   ]
  },
  {
   "cell_type": "code",
   "execution_count": 10,
   "metadata": {
    "collapsed": true
   },
   "outputs": [],
   "source": [
    "import numpy as np\n",
    "np.random.seed(1337)  # 再現性を確保するため"
   ]
  },
  {
   "cell_type": "code",
   "execution_count": 11,
   "metadata": {
    "collapsed": true
   },
   "outputs": [],
   "source": [
    "from keras.datasets import mnist"
   ]
  },
  {
   "cell_type": "code",
   "execution_count": 12,
   "metadata": {
    "collapsed": true
   },
   "outputs": [],
   "source": [
    "# 手書き文字データセット（MNIST）の読み込み\n",
    "(X_train, y_train), (X_test, y_test) = mnist.load_data()"
   ]
  },
  {
   "cell_type": "markdown",
   "metadata": {},
   "source": [
    "## データの前処理"
   ]
  },
  {
   "cell_type": "code",
   "execution_count": 13,
   "metadata": {
    "collapsed": false
   },
   "outputs": [
    {
     "name": "stdout",
     "output_type": "stream",
     "text": [
      "X_train shape: (60000, 1, 28, 28)\n",
      "X_test shape: (10000, 1, 28, 28)\n",
      "60000 train samples\n",
      "10000 test samples\n"
     ]
    }
   ],
   "source": [
    "X_train = X_train.reshape(X_train.shape[0], 1, img_rows, img_cols)\n",
    "X_test = X_test.reshape(X_test.shape[0], 1, img_rows, img_cols)\n",
    "X_train = X_train.astype('float32') / 255.\n",
    "X_test = X_test.astype('float32') / 255.\n",
    "print('X_train shape: {0}'.format(X_train.shape))\n",
    "print('X_test shape: {0}'.format(X_test.shape))\n",
    "print('{0} train samples'.format(X_train.shape[0]))\n",
    "print('{0} test samples'.format(X_test.shape[0]))"
   ]
  },
  {
   "cell_type": "code",
   "execution_count": 14,
   "metadata": {
    "collapsed": true
   },
   "outputs": [],
   "source": [
    "from keras.utils import np_utils\n",
    "\n",
    "# クラスベクトルをバイナリクラス行列に変換\n",
    "Y_train = np_utils.to_categorical(y_train, nb_classes)\n",
    "Y_test = np_utils.to_categorical(y_test, nb_classes)"
   ]
  },
  {
   "cell_type": "markdown",
   "metadata": {},
   "source": [
    "## 学習"
   ]
  },
  {
   "cell_type": "code",
   "execution_count": 15,
   "metadata": {
    "collapsed": true
   },
   "outputs": [],
   "source": [
    "import time"
   ]
  },
  {
   "cell_type": "code",
   "execution_count": 16,
   "metadata": {
    "collapsed": true
   },
   "outputs": [],
   "source": [
    "nb_epoch = 12\n",
    "batch_size = 128"
   ]
  },
  {
   "cell_type": "code",
   "execution_count": 17,
   "metadata": {
    "collapsed": false,
    "scrolled": false
   },
   "outputs": [
    {
     "name": "stdout",
     "output_type": "stream",
     "text": [
      "Train on 60000 samples, validate on 10000 samples\n",
      "Epoch 1/12\n",
      "60000/60000 [==============================] - 242s - loss: 0.3847 - acc: 0.8816 - val_loss: 0.0930 - val_acc: 0.9720\n",
      "Epoch 2/12\n",
      "60000/60000 [==============================] - 228s - loss: 0.1382 - acc: 0.9599 - val_loss: 0.0612 - val_acc: 0.9817\n",
      "Epoch 3/12\n",
      "60000/60000 [==============================] - 229s - loss: 0.1043 - acc: 0.9690 - val_loss: 0.0491 - val_acc: 0.9844\n",
      "Epoch 4/12\n",
      "60000/60000 [==============================] - 241s - loss: 0.0873 - acc: 0.9734 - val_loss: 0.0432 - val_acc: 0.9849\n",
      "Epoch 5/12\n",
      "60000/60000 [==============================] - 240s - loss: 0.0761 - acc: 0.9781 - val_loss: 0.0391 - val_acc: 0.9870\n",
      "Epoch 6/12\n",
      "60000/60000 [==============================] - 230s - loss: 0.0667 - acc: 0.9803 - val_loss: 0.0357 - val_acc: 0.9881\n",
      "Epoch 7/12\n",
      "60000/60000 [==============================] - 218s - loss: 0.0621 - acc: 0.9814 - val_loss: 0.0344 - val_acc: 0.9884\n",
      "Epoch 8/12\n",
      "60000/60000 [==============================] - 219s - loss: 0.0587 - acc: 0.9830 - val_loss: 0.0320 - val_acc: 0.9892\n",
      "Epoch 9/12\n",
      "60000/60000 [==============================] - 215s - loss: 0.0536 - acc: 0.9840 - val_loss: 0.0327 - val_acc: 0.9891\n",
      "Epoch 10/12\n",
      "60000/60000 [==============================] - 215s - loss: 0.0519 - acc: 0.9847 - val_loss: 0.0317 - val_acc: 0.9896\n",
      "Epoch 11/12\n",
      "60000/60000 [==============================] - 225s - loss: 0.0480 - acc: 0.9853 - val_loss: 0.0301 - val_acc: 0.9903\n",
      "Epoch 12/12\n",
      "60000/60000 [==============================] - 219s - loss: 0.0463 - acc: 0.9864 - val_loss: 0.0304 - val_acc: 0.9896\n",
      "Execution time: 2729.06 [sec]\n"
     ]
    }
   ],
   "source": [
    "tic = time.time()\n",
    "\n",
    "# 学習を実行。\n",
    "# 学習途中の損失関数の値などはhistory.historyに保存される。\n",
    "history = model.fit(X_train, Y_train,\n",
    "                    batch_size=batch_size, nb_epoch=nb_epoch,\n",
    "                    verbose=1, validation_data=(X_test, Y_test))\n",
    "\n",
    "toc = time.time()\n",
    "\n",
    "# 学習にかかった時間を表示\n",
    "print(\"Execution time: {0:.2f} [sec]\".format(toc - tic))"
   ]
  },
  {
   "cell_type": "markdown",
   "metadata": {},
   "source": [
    "注： ValueError: I/O operation on closed fileと出たら, model.fit(..., verbose=0, ...) とすべし"
   ]
  },
  {
   "cell_type": "markdown",
   "metadata": {},
   "source": [
    "## 学習結果の評価"
   ]
  },
  {
   "cell_type": "code",
   "execution_count": 18,
   "metadata": {
    "collapsed": true
   },
   "outputs": [],
   "source": [
    "# テストデータに対する評価値\n",
    "score = model.evaluate(X_test, Y_test, verbose=0)"
   ]
  },
  {
   "cell_type": "code",
   "execution_count": 19,
   "metadata": {
    "collapsed": false
   },
   "outputs": [
    {
     "name": "stdout",
     "output_type": "stream",
     "text": [
      "('Test score:', 0.030417224344811984)\n",
      "('Test accuracy:', 0.98960000000000004)\n"
     ]
    }
   ],
   "source": [
    "print('Test score:', score[0]) # 損失関数の値\n",
    "print('Test accuracy:', score[1]) # 精度"
   ]
  },
  {
   "cell_type": "code",
   "execution_count": 20,
   "metadata": {
    "collapsed": true
   },
   "outputs": [],
   "source": [
    "# 可視化用ライブラリの読み込み\n",
    "%matplotlib inline\n",
    "import matplotlib.pyplot as plt"
   ]
  },
  {
   "cell_type": "code",
   "execution_count": 21,
   "metadata": {
    "collapsed": false,
    "scrolled": false
   },
   "outputs": [
    {
     "data": {
      "text/plain": [
       "<matplotlib.legend.Legend at 0x1263ff5d0>"
      ]
     },
     "execution_count": 21,
     "metadata": {},
     "output_type": "execute_result"
    },
    {
     "data": {
      "image/png": "[encoded data removed]",
      "text/plain": [
       "<matplotlib.figure.Figure at 0x1263d8750>"
      ]
     },
     "metadata": {},
     "output_type": "display_data"
    }
   ],
   "source": [
    "fig, ax = plt.subplots(1, 2, figsize=(12, 6))\n",
    "ax[0].set_title('Training performance (Loss)')\n",
    "ax[0].plot(history.epoch, history.history['loss'], label='loss')\n",
    "ax[0].plot(history.epoch, history.history['val_loss'], label='val_loss')\n",
    "ax[0].set(xlabel='Epoch', ylabel='Loss')\n",
    "ax[0].legend()\n",
    "\n",
    "\n",
    "ax[1].set_title('Training performance (Accuracy)')\n",
    "ax[1].plot(history.epoch, history.history['acc'], label='acc')\n",
    "ax[1].plot(history.epoch, history.history['val_acc'], label='val_acc')\n",
    "ax[1].set(xlabel='Epoch', ylabel='Accuracy')\n",
    "ax[1].legend(loc='best')"
   ]
  },
  {
   "cell_type": "code",
   "execution_count": 22,
   "metadata": {
    "collapsed": true
   },
   "outputs": [],
   "source": [
    "# 予測値\n",
    "Y_test_pred = model.predict(X_test)"
   ]
  },
  {
   "cell_type": "code",
   "execution_count": 23,
   "metadata": {
    "collapsed": false
   },
   "outputs": [
    {
     "data": {
      "text/plain": [
       "(10000, 10)"
      ]
     },
     "execution_count": 23,
     "metadata": {},
     "output_type": "execute_result"
    }
   ],
   "source": [
    "# 予測の形\n",
    "Y_test_pred.shape"
   ]
  },
  {
   "cell_type": "code",
   "execution_count": 24,
   "metadata": {
    "collapsed": false
   },
   "outputs": [
    {
     "data": {
      "text/plain": [
       "<matplotlib.image.AxesImage at 0x12b400a10>"
      ]
     },
     "execution_count": 24,
     "metadata": {},
     "output_type": "execute_result"
    },
    {
     "data": {
      "image/png": "[encoded data removed]",
      "text/plain": [
       "<matplotlib.figure.Figure at 0x126347cd0>"
      ]
     },
     "metadata": {},
     "output_type": "display_data"
    }
   ],
   "source": [
    "# 予測の可視化\n",
    "plt.imshow(Y_test_pred[:10], cmap='gray', interpolation='nearest', vmin=0, vmax=1)"
   ]
  },
  {
   "cell_type": "code",
   "execution_count": 25,
   "metadata": {
    "collapsed": false
   },
   "outputs": [
    {
     "data": {
      "image/png": "[encoded data removed]",
      "text/plain": [
       "<matplotlib.figure.Figure at 0x12aa92650>"
      ]
     },
     "metadata": {},
     "output_type": "display_data"
    }
   ],
   "source": [
    "# 入力データを可視化（最初の10文字）\n",
    "fig, ax = plt.subplots(1, 10, figsize=(10, 2))\n",
    "\n",
    "for ii in range(10):\n",
    "    ax[ii].imshow(X_test[ii].reshape(28, 28), cmap='gray')\n",
    "    ax[ii].axis('off')"
   ]
  },
  {
   "cell_type": "code",
   "execution_count": 26,
   "metadata": {
    "collapsed": false
   },
   "outputs": [
    {
     "data": {
      "text/plain": [
       "<matplotlib.image.AxesImage at 0x12b6d4d90>"
      ]
     },
     "execution_count": 26,
     "metadata": {},
     "output_type": "execute_result"
    },
    {
     "data": {
      "image/png": "[encoded data removed]",
      "text/plain": [
       "<matplotlib.figure.Figure at 0x12b41f710>"
      ]
     },
     "metadata": {},
     "output_type": "display_data"
    }
   ],
   "source": [
    "plt.imshow(Y_test_pred[:40], cmap='gray', interpolation='nearest', vmin=0, vmax=1)"
   ]
  },
  {
   "cell_type": "code",
   "execution_count": 27,
   "metadata": {
    "collapsed": false
   },
   "outputs": [
    {
     "data": {
      "text/plain": [
       "<matplotlib.image.AxesImage at 0x12b88dc50>"
      ]
     },
     "execution_count": 27,
     "metadata": {},
     "output_type": "execute_result"
    },
    {
     "data": {
      "image/png": "[encoded data removed]",
      "text/plain": [
       "<matplotlib.figure.Figure at 0x12b6f0c50>"
      ]
     },
     "metadata": {},
     "output_type": "display_data"
    }
   ],
   "source": [
    "# 予測の可視化\n",
    "plt.imshow(Y_test_pred[30:40], cmap='gray', interpolation='nearest', vmin=0, vmax=1)"
   ]
  },
  {
   "cell_type": "code",
   "execution_count": 28,
   "metadata": {
    "collapsed": false
   },
   "outputs": [
    {
     "data": {
      "image/png": "[encoded data removed]",
      "text/plain": [
       "<matplotlib.figure.Figure at 0x12b846ed0>"
      ]
     },
     "metadata": {},
     "output_type": "display_data"
    }
   ],
   "source": [
    "# 入力データを可視化（30~39文字目までの10文字）\n",
    "fig, ax = plt.subplots(1, 10, figsize=(10, 2))\n",
    "\n",
    "for ii in range(10):\n",
    "    ax[ii].imshow(X_test[ii+30].reshape(28, 28), cmap='gray')\n",
    "    ax[ii].axis('off')"
   ]
  },
  {
   "cell_type": "markdown",
   "metadata": {},
   "source": [
    "## モデルとパラメータの保存"
   ]
  },
  {
   "cell_type": "code",
   "execution_count": 29,
   "metadata": {
    "collapsed": true
   },
   "outputs": [],
   "source": [
    "# JSON形式でモデルを保存\n",
    "json_string = model.to_json()\n",
    "open('./mnist_cnn_model.json', 'w').write(json_string)"
   ]
  },
  {
   "cell_type": "code",
   "execution_count": 32,
   "metadata": {
    "collapsed": true
   },
   "outputs": [],
   "source": [
    "#　最終ウエイトの保存\n",
    "model.save_weights('./mnist_cnn_last_weight.hdf5', overwrite=True)"
   ]
  },
  {
   "cell_type": "markdown",
   "metadata": {},
   "source": [
    "## モデルの読み出し"
   ]
  },
  {
   "cell_type": "code",
   "execution_count": 33,
   "metadata": {
    "collapsed": true
   },
   "outputs": [],
   "source": [
    "from keras.models import model_from_json"
   ]
  },
  {
   "cell_type": "code",
   "execution_count": 34,
   "metadata": {
    "collapsed": true
   },
   "outputs": [],
   "source": [
    "# JSON形式で保存されたモデルの呼び出し\n",
    "#json_string = open('./mnist_cnn_model.json', 'r').read()\n",
    "#model = model_from_json(json_string)"
   ]
  },
  {
   "cell_type": "code",
   "execution_count": 35,
   "metadata": {
    "collapsed": true
   },
   "outputs": [],
   "source": [
    "#model.load_weights('./mnist_cnn_last_weight.hdf5')"
   ]
  }
 ],
 "metadata": {
  "kernelspec": {
   "display_name": "Python 2",
   "language": "python",
   "name": "python2"
  },
  "language_info": {
   "codemirror_mode": {
    "name": "ipython",
    "version": 2
   },
   "file_extension": ".py",
   "mimetype": "text/x-python",
   "name": "python",
   "nbconvert_exporter": "python",
   "pygments_lexer": "ipython2",
   "version": "2.7.11"
  }
 },
 "nbformat": 4,
 "nbformat_minor": 0
}
